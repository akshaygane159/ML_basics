{
 "cells": [
  {
   "cell_type": "code",
   "execution_count": 1,
   "metadata": {},
   "outputs": [],
   "source": [
    "import numpy as np\n",
    "import pandas as pd"
   ]
  },
  {
   "cell_type": "code",
   "execution_count": 2,
   "metadata": {},
   "outputs": [],
   "source": [
    "x = np.array([1,2,3,6,4])\n",
    "y = np.array([3,6,7,17,13])"
   ]
  },
  {
   "cell_type": "code",
   "execution_count": 3,
   "metadata": {},
   "outputs": [],
   "source": [
    "def gradient_descent(x,y):\n",
    "    m_curr = c_curr = 0\n",
    "    iterations = 1000\n",
    "    n = len(x)\n",
    "    learning_rate = 0.001\n",
    "    \n",
    "    for v in range(iterations):\n",
    "        ypred = (m_curr * x) + c_curr\n",
    "        cost = (1/n) * sum ([val**2 for val in (y - ypred)])\n",
    "        md = (-2/(n)) * sum ( x ( y - ypred ) )\n",
    "        cd = (-2/(n)) * sum ( ( y - ypred ) ) \n",
    "        m_curr = m_curr - learning_rate * md\n",
    "        c_curr = c_curr - learning_rate * cd\n",
    "        print(\"m{}, b{}, cost, iterations{}\".format(m_curr,c_curr,cost,v))\n",
    "    "
   ]
  },
  {
   "cell_type": "code",
   "execution_count": null,
   "metadata": {},
   "outputs": [],
   "source": []
  }
 ],
 "metadata": {
  "kernelspec": {
   "display_name": "Python 3",
   "language": "python",
   "name": "python3"
  },
  "language_info": {
   "codemirror_mode": {
    "name": "ipython",
    "version": 3
   },
   "file_extension": ".py",
   "mimetype": "text/x-python",
   "name": "python",
   "nbconvert_exporter": "python",
   "pygments_lexer": "ipython3",
   "version": "3.6.5"
  }
 },
 "nbformat": 4,
 "nbformat_minor": 2
}
