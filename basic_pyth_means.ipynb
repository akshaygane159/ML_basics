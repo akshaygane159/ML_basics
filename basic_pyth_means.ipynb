{
 "cells": [
  {
   "cell_type": "code",
   "execution_count": 3,
   "metadata": {},
   "outputs": [
    {
     "name": "stdout",
     "output_type": "stream",
     "text": [
      "[1 2 3 4 5]\n"
     ]
    }
   ],
   "source": [
    "import numpy as np\n",
    "x = np.array([1,2,3,4,5])\n",
    "x+10\n",
    "print(x)"
   ]
  },
  {
   "cell_type": "code",
   "execution_count": 14,
   "metadata": {},
   "outputs": [
    {
     "name": "stdout",
     "output_type": "stream",
     "text": [
      "(3.0, 1.0, 2.18978102189781)\n"
     ]
    }
   ],
   "source": [
    "import numpy as np\n",
    "x = np.array([1,2,3,4,5])\n",
    "\n",
    "\n",
    "def amean(x):\n",
    "    tot = x.sum()\n",
    "    n = x.size\n",
    "    m = tot/n\n",
    "    return m\n",
    "\n",
    "def gmean(x):\n",
    "    mul = 1\n",
    "    for v in x:\n",
    "        mul *= v\n",
    "        n = x.size\n",
    "        return mul**(1/n)\n",
    "    \n",
    "def hmean(x):\n",
    "    return x.size/(1/x).sum()\n",
    "\n",
    "def means(x):\n",
    "    am = amean(x)\n",
    "    gm = gmean(x)\n",
    "    hm = hmean(x)\n",
    "    r  = (am, gm, hm)\n",
    "    return r\n",
    "\n",
    "print(means(x))\n",
    "    "
   ]
  },
  {
   "cell_type": "code",
   "execution_count": null,
   "metadata": {},
   "outputs": [],
   "source": []
  },
  {
   "cell_type": "code",
   "execution_count": null,
   "metadata": {},
   "outputs": [],
   "source": []
  },
  {
   "cell_type": "code",
   "execution_count": null,
   "metadata": {},
   "outputs": [],
   "source": []
  }
 ],
 "metadata": {
  "kernelspec": {
   "display_name": "Python 3",
   "language": "python",
   "name": "python3"
  },
  "language_info": {
   "codemirror_mode": {
    "name": "ipython",
    "version": 3
   },
   "file_extension": ".py",
   "mimetype": "text/x-python",
   "name": "python",
   "nbconvert_exporter": "python",
   "pygments_lexer": "ipython3",
   "version": "3.6.5"
  }
 },
 "nbformat": 4,
 "nbformat_minor": 2
}
